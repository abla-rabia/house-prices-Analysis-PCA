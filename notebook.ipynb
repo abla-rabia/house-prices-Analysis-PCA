{
 "cells": [
  {
   "cell_type": "code",
   "execution_count": 2,
   "metadata": {},
   "outputs": [],
   "source": [
    "import pandas as pd\n"
   ]
  },
  {
   "cell_type": "code",
   "execution_count": 4,
   "metadata": {},
   "outputs": [
    {
     "name": "stdout",
     "output_type": "stream",
     "text": [
      "   rownames   Date                  Address  Bedrooms  Baths  SquareFeet  \\\n",
      "0         1  16695     1510 First Ave #112          2    1.0      1120.0   \n",
      "1         2  16880          1020 Center St          3    1.0      1224.0   \n",
      "2         3  16875       918 Chatterton St          4    1.0      1540.0   \n",
      "3         4  16833  1023 & 1025 Spring St.          3    1.0      1154.0   \n",
      "4         5  16667             503 2nd Ave          3    1.0      1277.0   \n",
      "\n",
      "    LotSize  YearBuilt  YearSold  MonthSold  DaySold  CostPerSqFt  OrigPrice  \\\n",
      "0       NaN       1993      2005          9       16         6.25      17000   \n",
      "1  0.172176       1900      2006          3       20        22.06      35000   \n",
      "2       NaN       1970      2006          3       15        18.18      54000   \n",
      "3       NaN       1900      2006          2        1        26.00      65000   \n",
      "4  0.206612       1900      2005          8       19        24.08      35000   \n",
      "\n",
      "   ListPrice  SalePrice  SPLPPct  \n",
      "0      10500       7000    66.67  \n",
      "1      35000      27000    77.14  \n",
      "2      47000      28000    59.57  \n",
      "3      49000      30000    61.22  \n",
      "4      35000      30750    87.86  \n"
     ]
    }
   ],
   "source": [
    "# Charger le dataset\n",
    "df = pd.read_csv('GrinnellHouses.csv')\n",
    "\n",
    "# Aperçu du dataset\n",
    "print(df.head())\n"
   ]
  },
  {
   "cell_type": "code",
   "execution_count": 5,
   "metadata": {},
   "outputs": [
    {
     "name": "stdout",
     "output_type": "stream",
     "text": [
      "<class 'pandas.core.frame.DataFrame'>\n",
      "RangeIndex: 929 entries, 0 to 928\n",
      "Data columns (total 16 columns):\n",
      " #   Column       Non-Null Count  Dtype  \n",
      "---  ------       --------------  -----  \n",
      " 0   rownames     929 non-null    int64  \n",
      " 1   Date         929 non-null    int64  \n",
      " 2   Address      929 non-null    object \n",
      " 3   Bedrooms     929 non-null    int64  \n",
      " 4   Baths        929 non-null    float64\n",
      " 5   SquareFeet   911 non-null    float64\n",
      " 6   LotSize      741 non-null    float64\n",
      " 7   YearBuilt    929 non-null    int64  \n",
      " 8   YearSold     929 non-null    int64  \n",
      " 9   MonthSold    929 non-null    int64  \n",
      " 10  DaySold      929 non-null    int64  \n",
      " 11  CostPerSqFt  929 non-null    float64\n",
      " 12  OrigPrice    929 non-null    int64  \n",
      " 13  ListPrice    929 non-null    int64  \n",
      " 14  SalePrice    929 non-null    int64  \n",
      " 15  SPLPPct      929 non-null    float64\n",
      "dtypes: float64(5), int64(10), object(1)\n",
      "memory usage: 116.3+ KB\n",
      "None\n"
     ]
    }
   ],
   "source": [
    "print(df.info())  # Informations sur les colonnes\n"
   ]
  },
  {
   "cell_type": "code",
   "execution_count": 6,
   "metadata": {},
   "outputs": [
    {
     "name": "stdout",
     "output_type": "stream",
     "text": [
      "         rownames          Date    Bedrooms       Baths   SquareFeet  \\\n",
      "count  929.000000    929.000000  929.000000  929.000000   911.000000   \n",
      "mean   465.000000  18223.215285    3.194833    1.779333  1583.215148   \n",
      "std    268.323499   1139.171002    0.943293    0.743154   655.664966   \n",
      "min      1.000000  16527.000000    0.000000    0.000000   640.000000   \n",
      "25%    233.000000  17169.000000    3.000000    1.000000  1150.000000   \n",
      "50%    465.000000  18046.000000    3.000000    1.750000  1440.000000   \n",
      "75%    697.000000  19281.000000    4.000000    2.000000  1833.000000   \n",
      "max    929.000000  20186.000000    8.000000    6.000000  6815.000000   \n",
      "\n",
      "          LotSize    YearBuilt     YearSold   MonthSold     DaySold  \\\n",
      "count  741.000000   929.000000   929.000000  929.000000  929.000000   \n",
      "mean     0.723463  1945.903122  2009.365985    6.831001   16.226050   \n",
      "std      2.725697    37.209902     3.124149    3.035790    9.396815   \n",
      "min      0.028926  1870.000000  2005.000000    1.000000    1.000000   \n",
      "25%      0.233884  1900.000000  2007.000000    5.000000    8.000000   \n",
      "50%      0.284091  1956.000000  2009.000000    7.000000   16.000000   \n",
      "75%      0.370179  1973.000000  2012.000000    9.000000   25.000000   \n",
      "max     55.000000  2013.000000  2015.000000   12.000000   31.000000   \n",
      "\n",
      "       CostPerSqFt      OrigPrice      ListPrice      SalePrice     SPLPPct  \n",
      "count   929.000000     929.000000     929.000000     929.000000  929.000000  \n",
      "mean     83.291561  146047.083961  141399.138859  133203.720129   93.563994  \n",
      "std      35.762241   85174.109372   82228.201763   77959.624697    6.953764  \n",
      "min       0.000000    5990.000000   10500.000000    7000.000000   46.500000  \n",
      "25%      60.820000   89900.000000   88000.000000   83000.000000   91.320000  \n",
      "50%      82.880000  129900.000000  125000.000000  119340.000000   94.920000  \n",
      "75%     105.770000  179000.000000  172000.000000  162500.000000   97.560000  \n",
      "max     258.790000  695000.000000  695000.000000  606000.000000  111.020000  \n"
     ]
    }
   ],
   "source": [
    "print(df.describe())  # Statistiques pour les colonnes numériques\n"
   ]
  },
  {
   "cell_type": "code",
   "execution_count": 7,
   "metadata": {},
   "outputs": [],
   "source": [
    "df = df.dropna()  # Supprime les lignes avec des valeurs manquantes\n"
   ]
  },
  {
   "cell_type": "code",
   "execution_count": 8,
   "metadata": {},
   "outputs": [
    {
     "name": "stdout",
     "output_type": "stream",
     "text": [
      "         rownames          Date    Bedrooms       Baths   SquareFeet  \\\n",
      "count  732.000000    732.000000  732.000000  732.000000   732.000000   \n",
      "mean   485.581967  18307.631148    3.271858    1.812500  1610.368852   \n",
      "std    264.093851   1127.317537    0.912671    0.747502   671.581267   \n",
      "min      2.000000  16532.000000    0.000000    0.000000   640.000000   \n",
      "25%    259.750000  17314.000000    3.000000    1.250000  1154.000000   \n",
      "50%    501.000000  18274.000000    3.000000    1.750000  1448.000000   \n",
      "75%    707.250000  19325.250000    4.000000    2.000000  1892.750000   \n",
      "max    929.000000  20186.000000    8.000000    6.000000  6815.000000   \n",
      "\n",
      "          LotSize    YearBuilt     YearSold   MonthSold     DaySold  \\\n",
      "count  732.000000   732.000000   732.000000  732.000000  732.000000   \n",
      "mean     0.725367  1944.979508  2009.596995    6.827869   16.359290   \n",
      "std      2.741724    37.253424     3.087000    3.022105    9.305317   \n",
      "min      0.028926  1870.000000  2005.000000    1.000000    1.000000   \n",
      "25%      0.233666  1900.000000  2007.000000    5.000000    8.000000   \n",
      "50%      0.284091  1956.000000  2009.500000    7.000000   16.500000   \n",
      "75%      0.370179  1973.000000  2012.000000    9.000000   25.000000   \n",
      "max     55.000000  2013.000000  2015.000000   12.000000   31.000000   \n",
      "\n",
      "       CostPerSqFt     OrigPrice      ListPrice      SalePrice     SPLPPct  \n",
      "count   732.000000     732.00000     732.000000     732.000000  732.000000  \n",
      "mean     84.633388  148533.02459  143627.230874  135171.991803   93.635014  \n",
      "std      34.127169   87063.20842   84048.153017   79291.716595    6.467600  \n",
      "min       7.530000    5990.00000   10900.000000   10900.000000   50.000000  \n",
      "25%      61.737500   90750.00000   89000.000000   84000.000000   91.267500  \n",
      "50%      83.155000  129900.00000  125900.000000  120000.000000   94.740000  \n",
      "75%     106.462500  179900.00000  176000.000000  165225.000000   97.440000  \n",
      "max     258.790000  695000.00000  695000.000000  606000.000000  111.020000  \n"
     ]
    }
   ],
   "source": [
    "print(df.describe())  # Statistiques pour les colonnes numériques\n"
   ]
  },
  {
   "cell_type": "code",
   "execution_count": 10,
   "metadata": {},
   "outputs": [],
   "source": [
    "df.drop(['rownames','Date'], axis=1, inplace=True)"
   ]
  },
  {
   "cell_type": "code",
   "execution_count": 11,
   "metadata": {},
   "outputs": [
    {
     "name": "stdout",
     "output_type": "stream",
     "text": [
      "                   Address  Bedrooms  Baths  SquareFeet    LotSize  YearBuilt  \\\n",
      "1          1020 Center St          3    1.0      1224.0   0.172176       1900   \n",
      "4             503 2nd Ave          3    1.0      1277.0   0.206612       1900   \n",
      "5            9090 Clay St          3    1.0      1079.0   0.199357       1900   \n",
      "8             320 Park St          3    2.0       912.0   0.218000       1900   \n",
      "9           1014 Pearl St          3    2.0      1488.0   0.170000       1900   \n",
      "..                     ...       ...    ...         ...        ...        ...   \n",
      "924             569 Hwy 6          4    3.0      1920.0   4.000000       2006   \n",
      "925  2000 Country Club Dr          4    3.0      2958.0   0.370000       1968   \n",
      "926          311 11th Ave          4    3.0      3359.0   2.000000       1993   \n",
      "927         384 450th Ave          3    2.5      1565.0  11.660000       1987   \n",
      "928         154 Walnut Rd          5    6.0      3792.0  55.000000       1990   \n",
      "\n",
      "     YearSold  MonthSold  DaySold  CostPerSqFt  OrigPrice  ListPrice  \\\n",
      "1        2006          3       20        22.06      35000      35000   \n",
      "4        2005          8       19        24.08      35000      35000   \n",
      "5        2005          5       27        38.92      45900      45900   \n",
      "8        2005          9       21        54.82      59900      52500   \n",
      "9        2005          9       23        33.60      50000      50000   \n",
      "..        ...        ...      ...          ...        ...        ...   \n",
      "924      2014         12       23       169.27     420000     355000   \n",
      "925      2014          8       28       121.70     369000     369000   \n",
      "926      2014         11       21       107.92     449000     385000   \n",
      "927      2015          3        6       258.79     425000     425000   \n",
      "928      2014          8        1       159.81     695000     695000   \n",
      "\n",
      "     SalePrice  SPLPPct  \n",
      "1        27000    77.14  \n",
      "4        30750    87.86  \n",
      "5        42000    91.50  \n",
      "8        50000    95.24  \n",
      "9        50000   100.00  \n",
      "..         ...      ...  \n",
      "924     325000    91.55  \n",
      "925     360000    97.56  \n",
      "926     362500    94.16  \n",
      "927     405000    95.29  \n",
      "928     606000    87.19  \n",
      "\n",
      "[732 rows x 14 columns]\n"
     ]
    }
   ],
   "source": [
    "print(df)"
   ]
  },
  {
   "cell_type": "code",
   "execution_count": 13,
   "metadata": {},
   "outputs": [],
   "source": [
    "from sklearn.preprocessing import LabelEncoder\n",
    "\n",
    "# Encoder les colonnes catégoriques\n",
    "for col in df.select_dtypes(include=['object']).columns:\n",
    "    df[col] = LabelEncoder().fit_transform(df[col])\n"
   ]
  },
  {
   "cell_type": "code",
   "execution_count": null,
   "metadata": {},
   "outputs": [],
   "source": []
  }
 ],
 "metadata": {
  "kernelspec": {
   "display_name": "Python 3",
   "language": "python",
   "name": "python3"
  },
  "language_info": {
   "codemirror_mode": {
    "name": "ipython",
    "version": 3
   },
   "file_extension": ".py",
   "mimetype": "text/x-python",
   "name": "python",
   "nbconvert_exporter": "python",
   "pygments_lexer": "ipython3",
   "version": "3.12.6"
  }
 },
 "nbformat": 4,
 "nbformat_minor": 2
}
